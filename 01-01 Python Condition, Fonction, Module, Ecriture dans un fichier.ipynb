{
 "cells": [
  {
   "cell_type": "markdown",
   "id": "1391e6d0",
   "metadata": {},
   "source": [
    "#### Input"
   ]
  },
  {
   "cell_type": "code",
   "execution_count": 1,
   "id": "6ecc8a09",
   "metadata": {},
   "outputs": [
    {
     "name": "stdout",
     "output_type": "stream",
     "text": [
      "Quel est votre âge ? 23\n"
     ]
    }
   ],
   "source": [
    "age = input('Quel est votre âge ? ')"
   ]
  },
  {
   "cell_type": "code",
   "execution_count": 2,
   "id": "63c60965",
   "metadata": {},
   "outputs": [
    {
     "data": {
      "text/plain": [
       "str"
      ]
     },
     "execution_count": 2,
     "metadata": {},
     "output_type": "execute_result"
    }
   ],
   "source": [
    "type(age)"
   ]
  },
  {
   "cell_type": "code",
   "execution_count": 3,
   "id": "6ae42b84",
   "metadata": {},
   "outputs": [],
   "source": [
    "age_en_int = int(age)"
   ]
  },
  {
   "cell_type": "code",
   "execution_count": 4,
   "id": "c2216cb1",
   "metadata": {},
   "outputs": [
    {
     "name": "stdout",
     "output_type": "stream",
     "text": [
      "Quel est votre âge ? 23\n"
     ]
    }
   ],
   "source": [
    "age = int(input('Quel est votre âge ? '))"
   ]
  },
  {
   "cell_type": "markdown",
   "id": "d5b5eab4",
   "metadata": {},
   "source": [
    "#### Condition"
   ]
  },
  {
   "cell_type": "code",
   "execution_count": 5,
   "id": "61a0d589",
   "metadata": {},
   "outputs": [],
   "source": [
    "langage = 'Python'"
   ]
  },
  {
   "cell_type": "code",
   "execution_count": 6,
   "id": "3f975048",
   "metadata": {},
   "outputs": [
    {
     "data": {
      "text/plain": [
       "True"
      ]
     },
     "execution_count": 6,
     "metadata": {},
     "output_type": "execute_result"
    }
   ],
   "source": [
    "'n' in langage"
   ]
  },
  {
   "cell_type": "code",
   "execution_count": 7,
   "id": "2695256f",
   "metadata": {},
   "outputs": [],
   "source": [
    "annuaire = { \"Merveille\": [\"62561658\", \"40361374\"],\n",
    "            \"Andréa\": \"61585722\"}"
   ]
  },
  {
   "cell_type": "code",
   "execution_count": 8,
   "id": "986823c0",
   "metadata": {},
   "outputs": [
    {
     "data": {
      "text/plain": [
       "True"
      ]
     },
     "execution_count": 8,
     "metadata": {},
     "output_type": "execute_result"
    }
   ],
   "source": [
    "\"Merveille\" in annuaire"
   ]
  },
  {
   "cell_type": "code",
   "execution_count": 9,
   "id": "1d613ddc",
   "metadata": {},
   "outputs": [
    {
     "data": {
      "text/plain": [
       "False"
      ]
     },
     "execution_count": 9,
     "metadata": {},
     "output_type": "execute_result"
    }
   ],
   "source": [
    "\"62561658\" in annuaire.values()"
   ]
  },
  {
   "cell_type": "code",
   "execution_count": null,
   "id": "7b2bcc67",
   "metadata": {},
   "outputs": [],
   "source": [
    "note = 12"
   ]
  },
  {
   "cell_type": "code",
   "execution_count": null,
   "id": "a213b225",
   "metadata": {},
   "outputs": [],
   "source": [
    "if 0 < note < 10: # and\n",
    "    print('insuffisant')\n",
    "elif 10 <= note < 12:\n",
    "    print('passable')\n",
    "elif 13 <= note < 16:\n",
    "    print('bien')\n",
    "else :\n",
    "    print('boss')"
   ]
  },
  {
   "cell_type": "markdown",
   "id": "807a8cba",
   "metadata": {},
   "source": [
    "#### Les fonctions"
   ]
  },
  {
   "cell_type": "code",
   "execution_count": 8,
   "id": "57638acb",
   "metadata": {},
   "outputs": [],
   "source": [
    "def est_pair(nombre):\n",
    "    if nombre % 2 == 0:\n",
    "        print('ce nombre est pair')\n",
    "    else:\n",
    "        print('ce nombre est impaire')"
   ]
  },
  {
   "cell_type": "code",
   "execution_count": 9,
   "id": "0a8a4a03",
   "metadata": {},
   "outputs": [
    {
     "name": "stdout",
     "output_type": "stream",
     "text": [
      "ce nombre est pair\n"
     ]
    }
   ],
   "source": [
    "est_pair(2)"
   ]
  },
  {
   "cell_type": "code",
   "execution_count": 10,
   "id": "a6022cdf",
   "metadata": {},
   "outputs": [],
   "source": [
    "def est_pair_avc_ret(nombre):\n",
    "    \"Cette fonction dit si un nombre est pair ou impair\"\n",
    "    if nombre % 2 == 0:\n",
    "        return True\n",
    "    return False\n",
    "    "
   ]
  },
  {
   "cell_type": "code",
   "execution_count": 11,
   "id": "99019e12",
   "metadata": {},
   "outputs": [
    {
     "data": {
      "text/plain": [
       "False"
      ]
     },
     "execution_count": 11,
     "metadata": {},
     "output_type": "execute_result"
    }
   ],
   "source": [
    "est_pair_avc_ret(9)"
   ]
  },
  {
   "cell_type": "code",
   "execution_count": 10,
   "id": "930287b5",
   "metadata": {},
   "outputs": [],
   "source": [
    "?est_pair_avc_ret"
   ]
  },
  {
   "cell_type": "code",
   "execution_count": 3,
   "id": "219e9f57-fbba-46ec-926a-2d51d69d22c2",
   "metadata": {},
   "outputs": [],
   "source": [
    "def fib(n):\n",
    "    \"\"\"Print a Fibonacci series up to n.\"\"\"\n",
    "    a, b = 0, 1\n",
    "    while a < n:\n",
    "        print(a, end=', ')\n",
    "        a, b = b, a+b"
   ]
  },
  {
   "cell_type": "code",
   "execution_count": 7,
   "id": "f3a7a15e-d85e-4430-b1db-a46c1ae6b3a0",
   "metadata": {},
   "outputs": [
    {
     "name": "stdout",
     "output_type": "stream",
     "text": [
      "0, 1, 1, 2, 3, 5, 8, 13, 21, 34, 55, 89, "
     ]
    }
   ],
   "source": [
    "fib(100)"
   ]
  },
  {
   "cell_type": "markdown",
   "id": "61fedaf3-3c4a-467c-9a5f-a65aca2d4124",
   "metadata": {},
   "source": [
    "#### Lambda fonction"
   ]
  },
  {
   "cell_type": "markdown",
   "id": "30b439f2-d97d-415b-a588-5b584b4a9a9e",
   "metadata": {},
   "source": [
    "Ces fonctions anonymes sont appelées fonctions lambda car vous les définissez avec le mot-clé lambda. Les fonctions Lambda peuvent contenir n'importe quel nombre d'arguments mais une seule expression."
   ]
  },
  {
   "cell_type": "code",
   "execution_count": null,
   "id": "2314d78f-fee6-4843-873a-2224b021ce52",
   "metadata": {},
   "outputs": [],
   "source": []
  },
  {
   "cell_type": "code",
   "execution_count": null,
   "id": "63f7eb81-96ce-4e8b-b1b4-9bb6a3b7466d",
   "metadata": {},
   "outputs": [],
   "source": []
  },
  {
   "cell_type": "code",
   "execution_count": null,
   "id": "aad7313b-c8a8-4f51-9fef-d9c62efdd02b",
   "metadata": {},
   "outputs": [],
   "source": []
  },
  {
   "cell_type": "code",
   "execution_count": null,
   "id": "5cda0575-8f7d-4860-85d8-77c6887d3263",
   "metadata": {},
   "outputs": [],
   "source": []
  },
  {
   "cell_type": "markdown",
   "id": "52d65ad0",
   "metadata": {},
   "source": [
    "#### Modules"
   ]
  },
  {
   "cell_type": "code",
   "execution_count": 11,
   "id": "d36e7cfc",
   "metadata": {},
   "outputs": [],
   "source": [
    "import os # ou from os import listdir"
   ]
  },
  {
   "cell_type": "code",
   "execution_count": 12,
   "id": "912df853",
   "metadata": {},
   "outputs": [
    {
     "data": {
      "text/plain": [
       "['Liste, Tuple, Dictionnaire.ipynb',\n",
       " 'Condition, Fonction, Module.ipynb',\n",
       " '.ipynb_checkpoints']"
      ]
     },
     "execution_count": 12,
     "metadata": {},
     "output_type": "execute_result"
    }
   ],
   "source": [
    "os.listdir('./') # listdir('./')"
   ]
  },
  {
   "cell_type": "code",
   "execution_count": 13,
   "id": "602bff2a",
   "metadata": {},
   "outputs": [
    {
     "name": "stdout",
     "output_type": "stream",
     "text": [
      "Writing premier_module.py\n"
     ]
    }
   ],
   "source": [
    "%%writefile premier_module.py\n",
    "def est_pair_mod(nombre):\n",
    "    \"Cette fonction dit si un nombre est pair ou impair\"\n",
    "    if nombre % 2 == 0:\n",
    "        return True\n",
    "    return False"
   ]
  },
  {
   "cell_type": "code",
   "execution_count": 14,
   "id": "283d84e6",
   "metadata": {},
   "outputs": [
    {
     "data": {
      "text/plain": [
       "False"
      ]
     },
     "execution_count": 14,
     "metadata": {},
     "output_type": "execute_result"
    }
   ],
   "source": [
    "from premier_module import est_pair_mod # import premier_module\n",
    "est_pair_mod(85) # premier_module.est_pair_mod(85)"
   ]
  },
  {
   "cell_type": "markdown",
   "id": "1c3d1994",
   "metadata": {},
   "source": [
    "#### Lire et écrire dans des fichiers"
   ]
  },
  {
   "cell_type": "code",
   "execution_count": 15,
   "id": "98873b86",
   "metadata": {},
   "outputs": [],
   "source": [
    "fichier = 'identite.txt'"
   ]
  },
  {
   "cell_type": "code",
   "execution_count": 17,
   "id": "6f90e238",
   "metadata": {},
   "outputs": [],
   "source": [
    "with open(fichier, 'r') as f:\n",
    "    lines = f.readlines()"
   ]
  },
  {
   "cell_type": "code",
   "execution_count": 18,
   "id": "e47bdb6d",
   "metadata": {},
   "outputs": [
    {
     "data": {
      "text/plain": [
       "['ADEDODJA\\n', 'Merveille\\n', 'Bénin\\n', '23\\n', 'Masculin']"
      ]
     },
     "execution_count": 18,
     "metadata": {},
     "output_type": "execute_result"
    }
   ],
   "source": [
    "lines"
   ]
  },
  {
   "cell_type": "code",
   "execution_count": 21,
   "id": "2cf11dc1",
   "metadata": {},
   "outputs": [
    {
     "name": "stdout",
     "output_type": "stream",
     "text": [
      "['ADEDODJA', 'Merveille', 'Bénin', '23', 'Masculin']\n"
     ]
    }
   ],
   "source": [
    "for index, line in enumerate(lines):\n",
    "    lines[index] = line.replace('\\n', '')\n",
    "print(lines)"
   ]
  },
  {
   "cell_type": "code",
   "execution_count": 2,
   "id": "3699dd82",
   "metadata": {},
   "outputs": [],
   "source": [
    "fichier2 = \"Merv.txt\"\n",
    "with open(fichier2, 'w') as f:\n",
    "    f.write('Écriture dans un fichier')"
   ]
  },
  {
   "cell_type": "code",
   "execution_count": null,
   "id": "c101264c",
   "metadata": {},
   "outputs": [],
   "source": []
  }
 ],
 "metadata": {
  "kernelspec": {
   "display_name": "Python 3 (ipykernel)",
   "language": "python",
   "name": "python3"
  },
  "language_info": {
   "codemirror_mode": {
    "name": "ipython",
    "version": 3
   },
   "file_extension": ".py",
   "mimetype": "text/x-python",
   "name": "python",
   "nbconvert_exporter": "python",
   "pygments_lexer": "ipython3",
   "version": "3.10.4"
  }
 },
 "nbformat": 4,
 "nbformat_minor": 5
}
