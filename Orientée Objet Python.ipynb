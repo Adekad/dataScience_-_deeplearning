{
 "cells": [
  {
   "cell_type": "code",
   "execution_count": 1,
   "id": "8687064b",
   "metadata": {},
   "outputs": [],
   "source": [
    "import math"
   ]
  },
  {
   "cell_type": "code",
   "execution_count": 5,
   "id": "d09dc9cd",
   "metadata": {},
   "outputs": [],
   "source": [
    "class Point :\n",
    "    \"Cette classe un point dans un repere cartesien\"\n",
    "    def __init__(self, abscisse, ordonne): #Constructeur\n",
    "        self.x = abscisse\n",
    "        self.y = ordonne\n",
    "        \n",
    "    def __repr__(self):\n",
    "        return f\"L'abscisse de ce point est {self.x} et ordonne {self.y}\"\n",
    "    \n",
    "    def origine(self):\n",
    "        self.x = 0\n",
    "        self.y = 0\n",
    "        \n",
    "    def distance(self, autre_point):\n",
    "        squared = (autre_point.x - self.x)**2 + (autre_point.y - self.y)**2\n",
    "        d = math.sqrt(squared)\n",
    "        f\"La distance entre les 2 points est {d}\"\n",
    "        return d\n",
    "        \n",
    "        "
   ]
  },
  {
   "cell_type": "code",
   "execution_count": 6,
   "id": "73a8792a",
   "metadata": {},
   "outputs": [
    {
     "name": "stdout",
     "output_type": "stream",
     "text": [
      "L'abscisse de ce point est 5 et ordonne 2\n",
      "L'abscisse de ce point est 6 et ordonne 7\n"
     ]
    }
   ],
   "source": [
    "a = Point(5, 2)\n",
    "b = Point(6, 7)\n",
    "\n",
    "print(a) # __repr__ sera appelé\n",
    "print(b) # __repr__ sera appelé"
   ]
  },
  {
   "cell_type": "code",
   "execution_count": 7,
   "id": "1542c729",
   "metadata": {},
   "outputs": [
    {
     "data": {
      "text/plain": [
       "5.0990195135927845"
      ]
     },
     "execution_count": 7,
     "metadata": {},
     "output_type": "execute_result"
    }
   ],
   "source": [
    "a.distance(b)"
   ]
  },
  {
   "cell_type": "code",
   "execution_count": null,
   "id": "0eb44358",
   "metadata": {},
   "outputs": [],
   "source": []
  }
 ],
 "metadata": {
  "kernelspec": {
   "display_name": "Python 3 (ipykernel)",
   "language": "python",
   "name": "python3"
  },
  "language_info": {
   "codemirror_mode": {
    "name": "ipython",
    "version": 3
   },
   "file_extension": ".py",
   "mimetype": "text/x-python",
   "name": "python",
   "nbconvert_exporter": "python",
   "pygments_lexer": "ipython3",
   "version": "3.10.12"
  }
 },
 "nbformat": 4,
 "nbformat_minor": 5
}
