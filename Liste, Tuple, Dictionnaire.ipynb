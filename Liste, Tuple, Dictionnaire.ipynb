{
 "cells": [
  {
   "cell_type": "markdown",
   "id": "1be23655",
   "metadata": {},
   "source": [
    "#### Les listes en python"
   ]
  },
  {
   "cell_type": "code",
   "execution_count": null,
   "id": "d1a878c2",
   "metadata": {},
   "outputs": [],
   "source": [
    "liste_aleatoire = [1, 'hgf', 6]"
   ]
  },
  {
   "cell_type": "code",
   "execution_count": 9,
   "id": "f602854d",
   "metadata": {},
   "outputs": [
    {
     "data": {
      "text/plain": [
       "[1, 'hgf', 6]"
      ]
     },
     "execution_count": 9,
     "metadata": {},
     "output_type": "execute_result"
    }
   ],
   "source": [
    "liste_aleatoire"
   ]
  },
  {
   "cell_type": "code",
   "execution_count": 10,
   "id": "c93ae1cb",
   "metadata": {},
   "outputs": [],
   "source": [
    "liste_aleatoire.remove(1) #Suppression à partir de la valeur"
   ]
  },
  {
   "cell_type": "code",
   "execution_count": 11,
   "id": "b38f7a68",
   "metadata": {},
   "outputs": [
    {
     "data": {
      "text/plain": [
       "['hgf', 6]"
      ]
     },
     "execution_count": 11,
     "metadata": {},
     "output_type": "execute_result"
    }
   ],
   "source": [
    "liste_aleatoire"
   ]
  },
  {
   "cell_type": "code",
   "execution_count": 12,
   "id": "963023b2",
   "metadata": {},
   "outputs": [
    {
     "data": {
      "text/plain": [
       "6"
      ]
     },
     "execution_count": 12,
     "metadata": {},
     "output_type": "execute_result"
    }
   ],
   "source": [
    "liste_aleatoire.pop(1) # Suppression à partir de l'index"
   ]
  },
  {
   "cell_type": "code",
   "execution_count": 14,
   "id": "76f63af7",
   "metadata": {},
   "outputs": [
    {
     "name": "stdout",
     "output_type": "stream",
     "text": [
      "['hgf']\n"
     ]
    }
   ],
   "source": [
    "print(liste_aleatoire)"
   ]
  },
  {
   "cell_type": "code",
   "execution_count": 19,
   "id": "f3ec9e55",
   "metadata": {},
   "outputs": [],
   "source": [
    "liste_aleatoire.append(9) # Ajout d'élément à la fin"
   ]
  },
  {
   "cell_type": "code",
   "execution_count": 20,
   "id": "0427d9ca",
   "metadata": {},
   "outputs": [
    {
     "data": {
      "text/plain": [
       "['hgf', 'rsfhgbsdg', 7, 9]"
      ]
     },
     "execution_count": 20,
     "metadata": {},
     "output_type": "execute_result"
    }
   ],
   "source": [
    "liste_aleatoire"
   ]
  },
  {
   "cell_type": "code",
   "execution_count": 72,
   "id": "748ff4b2",
   "metadata": {},
   "outputs": [
    {
     "data": {
      "text/plain": [
       "1"
      ]
     },
     "execution_count": 72,
     "metadata": {},
     "output_type": "execute_result"
    }
   ],
   "source": [
    "liste_aleatoire.count(7) # Compter le nombre d'occurence d'une valaur "
   ]
  },
  {
   "cell_type": "code",
   "execution_count": 23,
   "id": "71b11143",
   "metadata": {},
   "outputs": [],
   "source": [
    "liste_aleatoire.extend('2') # Ajout d'élément à la fin (rien que les string) ???"
   ]
  },
  {
   "cell_type": "code",
   "execution_count": 75,
   "id": "f4031700",
   "metadata": {},
   "outputs": [
    {
     "ename": "AttributeError",
     "evalue": "'list' object has no attribute 'findIndex'",
     "output_type": "error",
     "traceback": [
      "\u001b[0;31m---------------------------------------------------------------------------\u001b[0m",
      "\u001b[0;31mAttributeError\u001b[0m                            Traceback (most recent call last)",
      "Cell \u001b[0;32mIn[75], line 1\u001b[0m\n\u001b[0;32m----> 1\u001b[0m \u001b[43mliste_aleatoire\u001b[49m\u001b[38;5;241;43m.\u001b[39;49m\u001b[43mfindIndex\u001b[49m(\u001b[38;5;241m7\u001b[39m)\n",
      "\u001b[0;31mAttributeError\u001b[0m: 'list' object has no attribute 'findIndex'"
     ]
    }
   ],
   "source": [
    "liste_aleatoire.find(7) # Existe pas"
   ]
  },
  {
   "cell_type": "code",
   "execution_count": 24,
   "id": "d27052aa",
   "metadata": {},
   "outputs": [
    {
     "data": {
      "text/plain": [
       "['hgf', 'rsfhgbsdg', 7, 9, '2']"
      ]
     },
     "execution_count": 24,
     "metadata": {},
     "output_type": "execute_result"
    }
   ],
   "source": [
    "liste_aleatoire"
   ]
  },
  {
   "cell_type": "code",
   "execution_count": 26,
   "id": "42ed4d3d",
   "metadata": {},
   "outputs": [
    {
     "ename": "SyntaxError",
     "evalue": "invalid syntax (984976895.py, line 1)",
     "output_type": "error",
     "traceback": [
      "\u001b[0;36m  Cell \u001b[0;32mIn[26], line 1\u001b[0;36m\u001b[0m\n\u001b[0;31m    liste_aleatoire.pop(0:2)\u001b[0m\n\u001b[0m                         ^\u001b[0m\n\u001b[0;31mSyntaxError\u001b[0m\u001b[0;31m:\u001b[0m invalid syntax\n"
     ]
    }
   ],
   "source": [
    "liste_aleatoire.pop(0:2) # Pas possible de supprimer une plage"
   ]
  },
  {
   "cell_type": "code",
   "execution_count": 25,
   "id": "7fbebf32",
   "metadata": {},
   "outputs": [
    {
     "ename": "TypeError",
     "evalue": "'<' not supported between instances of 'int' and 'str'",
     "output_type": "error",
     "traceback": [
      "\u001b[0;31m---------------------------------------------------------------------------\u001b[0m",
      "\u001b[0;31mTypeError\u001b[0m                                 Traceback (most recent call last)",
      "Cell \u001b[0;32mIn[25], line 1\u001b[0m\n\u001b[0;32m----> 1\u001b[0m \u001b[43mliste_aleatoire\u001b[49m\u001b[38;5;241;43m.\u001b[39;49m\u001b[43msort\u001b[49m\u001b[43m(\u001b[49m\u001b[43m)\u001b[49m\n",
      "\u001b[0;31mTypeError\u001b[0m: '<' not supported between instances of 'int' and 'str'"
     ]
    }
   ],
   "source": [
    "liste_aleatoire.sort() # Pas possible de trier une liste contenant un str"
   ]
  },
  {
   "cell_type": "markdown",
   "id": "9a660013",
   "metadata": {},
   "source": [
    "#### Les tuples en python (les sets ???)"
   ]
  },
  {
   "cell_type": "markdown",
   "id": "d58e8059",
   "metadata": {},
   "source": [
    "La différence entre une liste et un tuple est que les éléments d'un tuple ne sont pas modifiables, ni supprimables pendant que les éléments d'une liste sont modifiables"
   ]
  },
  {
   "cell_type": "markdown",
   "id": "cf0d5fdd",
   "metadata": {},
   "source": [
    "Un tuple sert généralement à créer des variables qui sont constants"
   ]
  },
  {
   "cell_type": "code",
   "execution_count": 27,
   "id": "3c24c696",
   "metadata": {},
   "outputs": [],
   "source": [
    "un_tuple = (4, 'Elim', 5)"
   ]
  },
  {
   "cell_type": "code",
   "execution_count": 29,
   "id": "26915621",
   "metadata": {},
   "outputs": [
    {
     "data": {
      "text/plain": [
       "tuple"
      ]
     },
     "execution_count": 29,
     "metadata": {},
     "output_type": "execute_result"
    }
   ],
   "source": [
    "type(un_tuple)"
   ]
  },
  {
   "cell_type": "code",
   "execution_count": 28,
   "id": "bbd2dc73",
   "metadata": {},
   "outputs": [
    {
     "data": {
      "text/plain": [
       "(4, 'Elim')"
      ]
     },
     "execution_count": 28,
     "metadata": {},
     "output_type": "execute_result"
    }
   ],
   "source": [
    "un_tuple[0:2]"
   ]
  },
  {
   "cell_type": "markdown",
   "id": "3d8dce57",
   "metadata": {},
   "source": [
    "#### Les dictionnaires (un ensemble de clé valeur, format json)"
   ]
  },
  {
   "cell_type": "code",
   "execution_count": 32,
   "id": "ee4322b7",
   "metadata": {},
   "outputs": [],
   "source": [
    "annuaire = { \"Merveille\": [\"625616558\", \"40361374\"],\n",
    "            \"Andréa\": \"61585722\"}"
   ]
  },
  {
   "cell_type": "code",
   "execution_count": 33,
   "id": "89a7c723",
   "metadata": {},
   "outputs": [
    {
     "data": {
      "text/plain": [
       "dict"
      ]
     },
     "execution_count": 33,
     "metadata": {},
     "output_type": "execute_result"
    }
   ],
   "source": [
    "type(annuaire)"
   ]
  },
  {
   "cell_type": "code",
   "execution_count": 34,
   "id": "983b5210",
   "metadata": {},
   "outputs": [
    {
     "data": {
      "text/plain": [
       "'625616558'"
      ]
     },
     "execution_count": 34,
     "metadata": {},
     "output_type": "execute_result"
    }
   ],
   "source": [
    "annuaire[\"Merveille\"][0]"
   ]
  },
  {
   "cell_type": "code",
   "execution_count": 35,
   "id": "a877d35d",
   "metadata": {},
   "outputs": [],
   "source": [
    "annuaire[\"Merveille\"].append(\"61585722\")"
   ]
  },
  {
   "cell_type": "code",
   "execution_count": 36,
   "id": "6d35d5c7",
   "metadata": {},
   "outputs": [
    {
     "data": {
      "text/plain": [
       "{'Merveille': ['625616558', '40361374', '61585722'], 'Andréa': '61585722'}"
      ]
     },
     "execution_count": 36,
     "metadata": {},
     "output_type": "execute_result"
    }
   ],
   "source": [
    "annuaire"
   ]
  },
  {
   "cell_type": "code",
   "execution_count": 37,
   "id": "13c974eb",
   "metadata": {},
   "outputs": [],
   "source": [
    "liste_dico = [7, { \"Merveille\": [\"625616558\", \"40361374\"],\n",
    "            \"Andréa\": \"61585722\"}]"
   ]
  },
  {
   "cell_type": "code",
   "execution_count": 38,
   "id": "6ed61535",
   "metadata": {},
   "outputs": [
    {
     "data": {
      "text/plain": [
       "[7, {'Merveille': ['625616558', '40361374'], 'Andréa': '61585722'}]"
      ]
     },
     "execution_count": 38,
     "metadata": {},
     "output_type": "execute_result"
    }
   ],
   "source": [
    "liste_dico"
   ]
  },
  {
   "cell_type": "code",
   "execution_count": 41,
   "id": "d8261139",
   "metadata": {},
   "outputs": [
    {
     "data": {
      "text/plain": [
       "'61585722'"
      ]
     },
     "execution_count": 41,
     "metadata": {},
     "output_type": "execute_result"
    }
   ],
   "source": [
    "liste_dico[1]['Andréa']"
   ]
  },
  {
   "cell_type": "code",
   "execution_count": 42,
   "id": "ac3d7300",
   "metadata": {},
   "outputs": [],
   "source": [
    "dico2 = {1 : 5, 8: 'dfghj'}"
   ]
  },
  {
   "cell_type": "code",
   "execution_count": 43,
   "id": "f0298f96",
   "metadata": {},
   "outputs": [
    {
     "data": {
      "text/plain": [
       "{1: 5, 8: 'dfghj'}"
      ]
     },
     "execution_count": 43,
     "metadata": {},
     "output_type": "execute_result"
    }
   ],
   "source": [
    "dico2"
   ]
  },
  {
   "cell_type": "code",
   "execution_count": 44,
   "id": "2e84b7f8",
   "metadata": {},
   "outputs": [],
   "source": [
    "dico3 = {1.2 : 5, 8.3: 'dfghj'}"
   ]
  },
  {
   "cell_type": "code",
   "execution_count": 45,
   "id": "fca25757",
   "metadata": {},
   "outputs": [
    {
     "data": {
      "text/plain": [
       "{1.2: 5, 8.3: 'dfghj'}"
      ]
     },
     "execution_count": 45,
     "metadata": {},
     "output_type": "execute_result"
    }
   ],
   "source": [
    "dico3"
   ]
  },
  {
   "cell_type": "code",
   "execution_count": 49,
   "id": "ec4d53f0",
   "metadata": {},
   "outputs": [],
   "source": [
    "annuaire['Mémé'] = '97177594' # Ajouter un élément dans un dico"
   ]
  },
  {
   "cell_type": "code",
   "execution_count": 48,
   "id": "f95d8cbd",
   "metadata": {},
   "outputs": [],
   "source": [
    "del annuaire[\"Mémé\"] # Supp un élément dans un dico"
   ]
  },
  {
   "cell_type": "code",
   "execution_count": 50,
   "id": "f0d5fe08",
   "metadata": {},
   "outputs": [
    {
     "data": {
      "text/plain": [
       "dict_items([('Merveille', ['625616558', '40361374', '61585722']), ('Andréa', '61585722'), ('Mémé', '97177594')])"
      ]
     },
     "execution_count": 50,
     "metadata": {},
     "output_type": "execute_result"
    }
   ],
   "source": [
    "annuaire.items()"
   ]
  },
  {
   "cell_type": "code",
   "execution_count": 51,
   "id": "95b13c89",
   "metadata": {},
   "outputs": [
    {
     "data": {
      "text/plain": [
       "[('Andréa', '61585722'),\n",
       " ('Merveille', ['625616558', '40361374', '61585722']),\n",
       " ('Mémé', '97177594')]"
      ]
     },
     "execution_count": 51,
     "metadata": {},
     "output_type": "execute_result"
    }
   ],
   "source": [
    "sorted(annuaire.items()) # Trier un annuaire à partir des clés"
   ]
  },
  {
   "cell_type": "code",
   "execution_count": 53,
   "id": "755c953e",
   "metadata": {},
   "outputs": [
    {
     "data": {
      "text/plain": [
       "[('Andréa', '61585722'),\n",
       " ('Merveille', ['625616558', '40361374', '61585722']),\n",
       " ('Mémé', '97177594')]"
      ]
     },
     "execution_count": 53,
     "metadata": {},
     "output_type": "execute_result"
    }
   ],
   "source": [
    "sorted(annuaire.items(), key=lambda t: t[0]) # Trier un annuaire à partir des clés"
   ]
  },
  {
   "cell_type": "code",
   "execution_count": 55,
   "id": "cf0b4832",
   "metadata": {},
   "outputs": [
    {
     "ename": "TypeError",
     "evalue": "'<' not supported between instances of 'str' and 'list'",
     "output_type": "error",
     "traceback": [
      "\u001b[0;31m---------------------------------------------------------------------------\u001b[0m",
      "\u001b[0;31mTypeError\u001b[0m                                 Traceback (most recent call last)",
      "Cell \u001b[0;32mIn[55], line 1\u001b[0m\n\u001b[0;32m----> 1\u001b[0m \u001b[38;5;28;43msorted\u001b[39;49m\u001b[43m(\u001b[49m\u001b[43mannuaire\u001b[49m\u001b[38;5;241;43m.\u001b[39;49m\u001b[43mitems\u001b[49m\u001b[43m(\u001b[49m\u001b[43m)\u001b[49m\u001b[43m,\u001b[49m\u001b[43m \u001b[49m\u001b[43mkey\u001b[49m\u001b[38;5;241;43m=\u001b[39;49m\u001b[38;5;28;43;01mlambda\u001b[39;49;00m\u001b[43m \u001b[49m\u001b[43mt\u001b[49m\u001b[43m:\u001b[49m\u001b[43m \u001b[49m\u001b[43mt\u001b[49m\u001b[43m[\u001b[49m\u001b[38;5;241;43m1\u001b[39;49m\u001b[43m]\u001b[49m\u001b[43m)\u001b[49m \u001b[38;5;66;03m# Trier un annuaire à partir des valeurs mais là pas possible \u001b[39;00m\n\u001b[1;32m      2\u001b[0m                                              \u001b[38;5;66;03m# parce que ces valeurs contiennent une liste: Merveille\u001b[39;00m\n",
      "\u001b[0;31mTypeError\u001b[0m: '<' not supported between instances of 'str' and 'list'"
     ]
    }
   ],
   "source": [
    "sorted(annuaire.items(), key=lambda t: t[1]) # Trier un annuaire à partir des valeurs mais là pas possible \n",
    "                                             # parce que ces valeurs contiennent une liste: Merveille"
   ]
  },
  {
   "cell_type": "code",
   "execution_count": 56,
   "id": "716e8a32",
   "metadata": {},
   "outputs": [
    {
     "data": {
      "text/plain": [
       "dict_keys(['Merveille', 'Andréa', 'Mémé'])"
      ]
     },
     "execution_count": 56,
     "metadata": {},
     "output_type": "execute_result"
    }
   ],
   "source": [
    "annuaire.keys() # Les clés de mon dico"
   ]
  },
  {
   "cell_type": "code",
   "execution_count": 57,
   "id": "9bb85fb8",
   "metadata": {},
   "outputs": [
    {
     "data": {
      "text/plain": [
       "dict_values([['625616558', '40361374', '61585722'], '61585722', '97177594'])"
      ]
     },
     "execution_count": 57,
     "metadata": {},
     "output_type": "execute_result"
    }
   ],
   "source": [
    "annuaire.values() # Les valeurs de mon dico"
   ]
  },
  {
   "cell_type": "code",
   "execution_count": 67,
   "id": "85eb72f1",
   "metadata": {},
   "outputs": [
    {
     "data": {
      "text/plain": [
       "['625616558', '40361374', '61585722']"
      ]
     },
     "execution_count": 67,
     "metadata": {},
     "output_type": "execute_result"
    }
   ],
   "source": [
    "annuaire.setdefault('Merveille') # Retourne la valaeur d'une clé, si la clé n'existe pas insérer la clé"
   ]
  },
  {
   "cell_type": "code",
   "execution_count": 68,
   "id": "8daa729d",
   "metadata": {},
   "outputs": [
    {
     "data": {
      "text/plain": [
       "{'Merveille': ['625616558', '40361374', '61585722'],\n",
       " 'Andréa': '61585722',\n",
       " 'Mémé': '97177594',\n",
       " 'Merveil': None}"
      ]
     },
     "execution_count": 68,
     "metadata": {},
     "output_type": "execute_result"
    }
   ],
   "source": [
    "annuaire"
   ]
  },
  {
   "cell_type": "code",
   "execution_count": 71,
   "id": "70afcd64",
   "metadata": {},
   "outputs": [
    {
     "data": {
      "text/plain": [
       "[1, 2, 2, 1]"
      ]
     },
     "execution_count": 71,
     "metadata": {},
     "output_type": "execute_result"
    }
   ],
   "source": [
    "[1, 2] + [2, 1]"
   ]
  },
  {
   "cell_type": "markdown",
   "id": "5eda54b3",
   "metadata": {},
   "source": [
    "#### Les F-strings"
   ]
  },
  {
   "cell_type": "code",
   "execution_count": 76,
   "id": "2ea2c544",
   "metadata": {},
   "outputs": [
    {
     "data": {
      "text/plain": [
       "\"Je suis ADEDODJA Merveille et j'ai 23\""
      ]
     },
     "execution_count": 76,
     "metadata": {},
     "output_type": "execute_result"
    }
   ],
   "source": [
    "nom = 'ADEDODJA'\n",
    "prenom = 'Merveille'\n",
    "age = 23\n",
    "\"Je suis {} {} et j'ai {}\".format(nom, prenom, age)"
   ]
  },
  {
   "cell_type": "code",
   "execution_count": 77,
   "id": "fa39f123",
   "metadata": {},
   "outputs": [
    {
     "data": {
      "text/plain": [
       "\"Je suis Merveille ADEDODJA et j'ai 23\""
      ]
     },
     "execution_count": 77,
     "metadata": {},
     "output_type": "execute_result"
    }
   ],
   "source": [
    "f\"Je suis {prenom} {nom} et j'ai {age}\""
   ]
  },
  {
   "cell_type": "code",
   "execution_count": null,
   "id": "3aa866df",
   "metadata": {},
   "outputs": [],
   "source": []
  }
 ],
 "metadata": {
  "kernelspec": {
   "display_name": "Python 3 (ipykernel)",
   "language": "python",
   "name": "python3"
  },
  "language_info": {
   "codemirror_mode": {
    "name": "ipython",
    "version": 3
   },
   "file_extension": ".py",
   "mimetype": "text/x-python",
   "name": "python",
   "nbconvert_exporter": "python",
   "pygments_lexer": "ipython3",
   "version": "3.10.12"
  }
 },
 "nbformat": 4,
 "nbformat_minor": 5
}
