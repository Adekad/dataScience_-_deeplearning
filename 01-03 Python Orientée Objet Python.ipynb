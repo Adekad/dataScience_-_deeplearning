{
 "cells": [
  {
   "cell_type": "code",
   "execution_count": 1,
   "id": "8687064b",
   "metadata": {},
   "outputs": [],
   "source": [
    "import math"
   ]
  },
  {
   "cell_type": "code",
   "execution_count": 5,
   "id": "d09dc9cd",
   "metadata": {},
   "outputs": [],
   "source": [
    "class Point :\n",
    "    \"Cette classe un point dans un repere cartesien\"\n",
    "    def __init__(self, abscisse, ordonne): #Constructeur\n",
    "        self.x = abscisse\n",
    "        self.y = ordonne\n",
    "        \n",
    "    def __repr__(self):\n",
    "        return f\"L'abscisse de ce point est {self.x} et ordonne {self.y}\"\n",
    "    \n",
    "    def origine(self):\n",
    "        self.x = 0\n",
    "        self.y = 0\n",
    "        \n",
    "    def distance(self, autre_point):\n",
    "        squared = (autre_point.x - self.x)**2 + (autre_point.y - self.y)**2\n",
    "        d = math.sqrt(squared)\n",
    "        f\"La distance entre les 2 points est {d}\"\n",
    "        return d\n",
    "        \n",
    "        "
   ]
  },
  {
   "cell_type": "code",
   "execution_count": 6,
   "id": "73a8792a",
   "metadata": {},
   "outputs": [
    {
     "name": "stdout",
     "output_type": "stream",
     "text": [
      "L'abscisse de ce point est 5 et ordonne 2\n",
      "L'abscisse de ce point est 6 et ordonne 7\n"
     ]
    }
   ],
   "source": [
    "a = Point(5, 2)\n",
    "b = Point(6, 7)\n",
    "\n",
    "print(a) # __repr__ sera appelé\n",
    "print(b) # __repr__ sera appelé"
   ]
  },
  {
   "cell_type": "code",
   "execution_count": 7,
   "id": "1542c729",
   "metadata": {},
   "outputs": [
    {
     "data": {
      "text/plain": [
       "5.0990195135927845"
      ]
     },
     "execution_count": 7,
     "metadata": {},
     "output_type": "execute_result"
    }
   ],
   "source": [
    "a.distance(b)"
   ]
  },
  {
   "cell_type": "markdown",
   "id": "1a683bfd-1841-427a-9008-8c9544b90b99",
   "metadata": {},
   "source": [
    "Python can also define new functions on the fly. These anonymous functions are called *lambda functions* because you define them with the `lambda` keyword. Lambda functions can contain any number of arguments but only one expression."
   ]
  },
  {
   "cell_type": "code",
   "execution_count": 1,
   "id": "0eb44358",
   "metadata": {},
   "outputs": [
    {
     "data": {
      "text/plain": [
       "[1, 3, 5, 7, 9]"
      ]
     },
     "execution_count": 1,
     "metadata": {},
     "output_type": "execute_result"
    }
   ],
   "source": [
    "nums = [1, 2, 3, 4, 5, 6, 7, 8, 9, 10]\n",
    "list(filter(lambda x: x % 2 != 0, nums))"
   ]
  },
  {
   "cell_type": "markdown",
   "id": "71546849-90ab-4cd3-94f1-7f7abfdef9d8",
   "metadata": {},
   "source": [
    "&gt; **Takeaway:** You will constantly be using functions of all kind to perform data science in Python, so understanding how functions accept, work on, and return data is critical to further progress."
   ]
  },
  {
   "cell_type": "markdown",
   "id": "90c0541d-eb99-4d8c-a995-53c0d818f93c",
   "metadata": {},
   "source": [
    "### List comprehensions\n",
    "\n",
    "&gt; **Learning goal:** By the end of this subsection, you should understand how to economically and computationally create lists.\n",
    "\n",
    "Sometimes, it makes more sense to generate a list algorithmically. Consider the last example. We really wanted just a list of numbers from 1 to 10. Rather than type those out, we can use a *list comprehension* to generate it:"
   ]
  },
  {
   "cell_type": "code",
   "execution_count": 2,
   "id": "13fbdfd8-a47f-4efd-b8ae-104210611871",
   "metadata": {},
   "outputs": [
    {
     "data": {
      "text/plain": [
       "[1, 2, 3, 4, 5, 6, 7, 8, 9, 10]"
      ]
     },
     "execution_count": 2,
     "metadata": {},
     "output_type": "execute_result"
    }
   ],
   "source": [
    "numbers = [x for x in range(1,11)] # Remember to create a range 1 more than the number you actually want.\n",
    "numbers"
   ]
  },
  {
   "cell_type": "code",
   "execution_count": 3,
   "id": "2cbe2f64-eb00-43b0-b045-dc4da7614f16",
   "metadata": {},
   "outputs": [
    {
     "data": {
      "text/plain": [
       "[1, 4, 9, 16, 25, 36, 49, 64, 81, 100]"
      ]
     },
     "execution_count": 3,
     "metadata": {},
     "output_type": "execute_result"
    }
   ],
   "source": [
    "squares = [x*x for x in range(1,11)]\n",
    "squares"
   ]
  },
  {
   "cell_type": "code",
   "execution_count": 4,
   "id": "5c8d7b38-3b97-492c-b529-a03108720cae",
   "metadata": {},
   "outputs": [
    {
     "data": {
      "text/plain": [
       "[1, 9, 25, 49, 81]"
      ]
     },
     "execution_count": 4,
     "metadata": {},
     "output_type": "execute_result"
    }
   ],
   "source": [
    "odd_squares = [x*x for x in range(1,11) if x % 2 != 0]\n",
    "odd_squares"
   ]
  },
  {
   "cell_type": "code",
   "execution_count": null,
   "id": "c6aa65f1-867b-4ca6-b077-880a4e52be6e",
   "metadata": {},
   "outputs": [],
   "source": []
  }
 ],
 "metadata": {
  "kernelspec": {
   "display_name": "Python 3 (ipykernel)",
   "language": "python",
   "name": "python3"
  },
  "language_info": {
   "codemirror_mode": {
    "name": "ipython",
    "version": 3
   },
   "file_extension": ".py",
   "mimetype": "text/x-python",
   "name": "python",
   "nbconvert_exporter": "python",
   "pygments_lexer": "ipython3",
   "version": "3.10.4"
  }
 },
 "nbformat": 4,
 "nbformat_minor": 5
}
