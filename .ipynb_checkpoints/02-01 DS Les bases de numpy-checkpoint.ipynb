{
 "cells": [
  {
   "cell_type": "code",
   "execution_count": 1,
   "id": "a0227ddd",
   "metadata": {},
   "outputs": [],
   "source": [
    "import numpy as np"
   ]
  },
  {
   "cell_type": "code",
   "execution_count": 22,
   "id": "5a2323b8",
   "metadata": {},
   "outputs": [
    {
     "data": {
      "text/plain": [
       "2"
      ]
     },
     "execution_count": 22,
     "metadata": {},
     "output_type": "execute_result"
    }
   ],
   "source": [
    "# Création de tableau avec numpy\n",
    "data = np.array([\n",
    "    #[[8, 5, 4],[8, 5, 4]]\n",
    "    [8, 5, 4],\n",
    "    [2, 6, 7]\n",
    "])\n",
    "\n",
    "# Avoir la dimension du tableau ici 2 (généralement 2, un tableau à toujours 2 dimension)\n",
    "# La distance est le nombre de liste imbriquée\n",
    "data.ndim"
   ]
  },
  {
   "cell_type": "code",
   "execution_count": 23,
   "id": "d8cdfaed",
   "metadata": {},
   "outputs": [
    {
     "data": {
      "text/plain": [
       "(2, 3)"
      ]
     },
     "execution_count": 23,
     "metadata": {},
     "output_type": "execute_result"
    }
   ],
   "source": [
    "# Avoir la forme du tableau ici (2, 3)\n",
    "data.shape"
   ]
  },
  {
   "cell_type": "code",
   "execution_count": 24,
   "id": "236c1cf5",
   "metadata": {},
   "outputs": [
    {
     "data": {
      "text/plain": [
       "6"
      ]
     },
     "execution_count": 24,
     "metadata": {},
     "output_type": "execute_result"
    }
   ],
   "source": [
    "# Avoir la taille ici 6\n",
    "data.size"
   ]
  },
  {
   "cell_type": "code",
   "execution_count": 25,
   "id": "760b8042",
   "metadata": {},
   "outputs": [
    {
     "data": {
      "text/plain": [
       "4"
      ]
     },
     "execution_count": 25,
     "metadata": {},
     "output_type": "execute_result"
    }
   ],
   "source": [
    "# Accéder aux éléments du tableau numpy\n",
    "\n",
    "data[0, 2] # 1er ligne 3eme colonne data[0, 2] = data[0][2]"
   ]
  },
  {
   "cell_type": "code",
   "execution_count": 28,
   "id": "fc5f0db8",
   "metadata": {},
   "outputs": [
    {
     "data": {
      "text/plain": [
       "array([5, 4])"
      ]
     },
     "execution_count": 28,
     "metadata": {},
     "output_type": "execute_result"
    }
   ],
   "source": [
    "# Accéder au sous tableau d'un tableau\n",
    "data[0, 1:]"
   ]
  },
  {
   "cell_type": "code",
   "execution_count": 32,
   "id": "34f7af63",
   "metadata": {},
   "outputs": [
    {
     "data": {
      "text/plain": [
       "array([[0, 1, 2],\n",
       "       [3, 4, 5],\n",
       "       [6, 7, 8]])"
      ]
     },
     "execution_count": 32,
     "metadata": {},
     "output_type": "execute_result"
    }
   ],
   "source": [
    "matrice = np.arange(9).reshape(3,3)\n",
    "matrice"
   ]
  },
  {
   "cell_type": "code",
   "execution_count": 33,
   "id": "199c350a",
   "metadata": {},
   "outputs": [
    {
     "data": {
      "text/plain": [
       "array([[0, 1, 2],\n",
       "       [3, 4, 5],\n",
       "       [6, 7, 9]])"
      ]
     },
     "execution_count": 33,
     "metadata": {},
     "output_type": "execute_result"
    }
   ],
   "source": [
    "matrice[2, -1] = 9\n",
    "matrice"
   ]
  },
  {
   "cell_type": "markdown",
   "id": "e5f901d7",
   "metadata": {},
   "source": [
    "#### Copie d'une matrice"
   ]
  },
  {
   "cell_type": "code",
   "execution_count": 34,
   "id": "c9833192",
   "metadata": {},
   "outputs": [
    {
     "data": {
      "text/plain": [
       "array([[0, 1],\n",
       "       [3, 4]])"
      ]
     },
     "execution_count": 34,
     "metadata": {},
     "output_type": "execute_result"
    }
   ],
   "source": [
    "# La modification faite sur une copie d'une matrice(array numpy) sera également appliqué à la matrice d'origine\n",
    "data = matrice[:2, :2]\n",
    "data"
   ]
  },
  {
   "cell_type": "code",
   "execution_count": 35,
   "id": "076d8621",
   "metadata": {},
   "outputs": [
    {
     "data": {
      "text/plain": [
       "array([[15,  1],\n",
       "       [ 3,  4]])"
      ]
     },
     "execution_count": 35,
     "metadata": {},
     "output_type": "execute_result"
    }
   ],
   "source": [
    "data[0, 0] = 15\n",
    "data"
   ]
  },
  {
   "cell_type": "code",
   "execution_count": 36,
   "id": "b04b6e60",
   "metadata": {},
   "outputs": [
    {
     "data": {
      "text/plain": [
       "array([[15,  1,  2],\n",
       "       [ 3,  4,  5],\n",
       "       [ 6,  7,  9]])"
      ]
     },
     "execution_count": 36,
     "metadata": {},
     "output_type": "execute_result"
    }
   ],
   "source": [
    "matrice"
   ]
  },
  {
   "cell_type": "markdown",
   "id": "bf3dcaee",
   "metadata": {},
   "source": [
    "####  Copie sans lien avec la matrice d'origine"
   ]
  },
  {
   "cell_type": "code",
   "execution_count": 38,
   "id": "83cf7e3f",
   "metadata": {},
   "outputs": [
    {
     "data": {
      "text/plain": [
       "array([[15,  1],\n",
       "       [ 3,  4]])"
      ]
     },
     "execution_count": 38,
     "metadata": {},
     "output_type": "execute_result"
    }
   ],
   "source": [
    "data = matrice[:2, :2].copy()\n",
    "data"
   ]
  },
  {
   "cell_type": "markdown",
   "id": "54126bea",
   "metadata": {},
   "source": [
    "#### Modifier la taille d'un tableau"
   ]
  },
  {
   "cell_type": "code",
   "execution_count": 39,
   "id": "4aa1cf10",
   "metadata": {},
   "outputs": [
    {
     "data": {
      "text/plain": [
       "array([[15, 75, 94, 13, 12],\n",
       "       [74, 96, 21, 47, 71]])"
      ]
     },
     "execution_count": 39,
     "metadata": {},
     "output_type": "execute_result"
    }
   ],
   "source": [
    "mat_aleatoire = np.random.randint(100, size=(2,5))\n",
    "\n",
    "mat_aleatoire"
   ]
  },
  {
   "cell_type": "code",
   "execution_count": 40,
   "id": "e7d3fd2a",
   "metadata": {},
   "outputs": [
    {
     "data": {
      "text/plain": [
       "(2, 5)"
      ]
     },
     "execution_count": 40,
     "metadata": {},
     "output_type": "execute_result"
    }
   ],
   "source": [
    "mat_aleatoire.shape"
   ]
  },
  {
   "cell_type": "code",
   "execution_count": 46,
   "id": "7879dd3a",
   "metadata": {},
   "outputs": [
    {
     "data": {
      "text/plain": [
       "array([[15, 75],\n",
       "       [94, 13],\n",
       "       [12, 74],\n",
       "       [96, 21],\n",
       "       [47, 71]])"
      ]
     },
     "execution_count": 46,
     "metadata": {},
     "output_type": "execute_result"
    }
   ],
   "source": [
    "mat_aleatoire.reshape((5,2)) # Ici impossible de faire 5,3"
   ]
  },
  {
   "cell_type": "markdown",
   "id": "1ba10f7c",
   "metadata": {},
   "source": [
    "#### Concatener 2 tableaux"
   ]
  },
  {
   "cell_type": "code",
   "execution_count": 47,
   "id": "af3f76c3",
   "metadata": {},
   "outputs": [],
   "source": [
    "u = np.array([0, 5, 2])\n",
    "v = np.array([6, 3, 7])"
   ]
  },
  {
   "cell_type": "code",
   "execution_count": 49,
   "id": "a7cec7a9",
   "metadata": {},
   "outputs": [
    {
     "data": {
      "text/plain": [
       "array([[0, 5, 2],\n",
       "       [6, 3, 7]])"
      ]
     },
     "execution_count": 49,
     "metadata": {},
     "output_type": "execute_result"
    }
   ],
   "source": [
    "tab = np.vstack([u, v]) # Pour une concatenation vertical hstack pour une horizontal\n",
    "tab"
   ]
  },
  {
   "cell_type": "markdown",
   "id": "8091b91c",
   "metadata": {},
   "source": [
    "#### Numpy plus rapide que les listes en python car il est écrit en C et le C est beaucoup plus rapide que python"
   ]
  },
  {
   "cell_type": "code",
   "execution_count": 53,
   "id": "2ca99182",
   "metadata": {},
   "outputs": [],
   "source": [
    "import time "
   ]
  },
  {
   "cell_type": "code",
   "execution_count": 54,
   "id": "bbd07a83",
   "metadata": {},
   "outputs": [
    {
     "name": "stdout",
     "output_type": "stream",
     "text": [
      "-0.0009505748748779297\n"
     ]
    }
   ],
   "source": [
    "deb = time.time()\n",
    "\n",
    "l = [5, 8, 2]\n",
    "[n**2 for n in l]\n",
    "\n",
    "fin = time.time()\n",
    "print(deb - fin)"
   ]
  },
  {
   "cell_type": "code",
   "execution_count": 55,
   "id": "446517da",
   "metadata": {},
   "outputs": [
    {
     "name": "stdout",
     "output_type": "stream",
     "text": [
      "-0.0005576610565185547\n"
     ]
    }
   ],
   "source": [
    "deb = time.time()\n",
    "\n",
    "np.array(l)**2\n",
    "\n",
    "fin = time.time()\n",
    "print(deb - fin)"
   ]
  },
  {
   "cell_type": "markdown",
   "id": "2f51bbf9",
   "metadata": {},
   "source": [
    "#### Les agrégations"
   ]
  },
  {
   "cell_type": "code",
   "execution_count": 59,
   "id": "463e3123",
   "metadata": {},
   "outputs": [
    {
     "data": {
      "text/plain": [
       "array([[ 0,  9, 10],\n",
       "       [ 6, 10,  9],\n",
       "       [ 7,  0,  7],\n",
       "       [ 3,  3,  2],\n",
       "       [ 5,  3, 11]])"
      ]
     },
     "execution_count": 59,
     "metadata": {},
     "output_type": "execute_result"
    }
   ],
   "source": [
    "tab = np.random.randint(15, size=(5, 3))\n",
    "tab"
   ]
  },
  {
   "cell_type": "code",
   "execution_count": 60,
   "id": "4551634c",
   "metadata": {},
   "outputs": [
    {
     "data": {
      "text/plain": [
       "0"
      ]
     },
     "execution_count": 60,
     "metadata": {},
     "output_type": "execute_result"
    }
   ],
   "source": [
    "np.min(tab) # = tab.min()"
   ]
  },
  {
   "cell_type": "code",
   "execution_count": 62,
   "id": "db1b6940",
   "metadata": {},
   "outputs": [
    {
     "data": {
      "text/plain": [
       "array([0, 0, 2])"
      ]
     },
     "execution_count": 62,
     "metadata": {},
     "output_type": "execute_result"
    }
   ],
   "source": [
    "# np.min(tab, axis= 0)\n",
    "tab.min(axis = 0) # min sur les colones"
   ]
  },
  {
   "cell_type": "code",
   "execution_count": 63,
   "id": "bac8ce25",
   "metadata": {},
   "outputs": [
    {
     "data": {
      "text/plain": [
       "array([0, 6, 0, 2, 3])"
      ]
     },
     "execution_count": 63,
     "metadata": {},
     "output_type": "execute_result"
    }
   ],
   "source": [
    "# np.min(tab, axis= 1)\n",
    "tab.min(axis = 1) # min sur les lignes"
   ]
  },
  {
   "cell_type": "code",
   "execution_count": 66,
   "id": "f51e52f4",
   "metadata": {},
   "outputs": [
    {
     "data": {
      "text/plain": [
       "array([4.2, 5. , 7.8])"
      ]
     },
     "execution_count": 66,
     "metadata": {},
     "output_type": "execute_result"
    }
   ],
   "source": [
    "# np.mean(tab, axis= 0)\n",
    "# tab.mean() # moyenne du tableau\n",
    "tab.mean(axis = 0) # moyenne sur les colones"
   ]
  },
  {
   "cell_type": "code",
   "execution_count": 67,
   "id": "11812aca",
   "metadata": {},
   "outputs": [
    {
     "data": {
      "text/plain": [
       "array([False,  True,  True])"
      ]
     },
     "execution_count": 67,
     "metadata": {},
     "output_type": "execute_result"
    }
   ],
   "source": [
    "tab.mean(axis = 0) >= 5 # Pour avoir les moy sup à 5"
   ]
  },
  {
   "cell_type": "code",
   "execution_count": 68,
   "id": "5eaf4a46",
   "metadata": {},
   "outputs": [
    {
     "data": {
      "text/plain": [
       "2"
      ]
     },
     "execution_count": 68,
     "metadata": {},
     "output_type": "execute_result"
    }
   ],
   "source": [
    "np.sum(tab.mean(axis = 0) >= 5) # Va compter le nombre de true"
   ]
  },
  {
   "cell_type": "markdown",
   "id": "2e97de11",
   "metadata": {},
   "source": [
    "#### Indexer des éléments"
   ]
  },
  {
   "cell_type": "code",
   "execution_count": 69,
   "id": "0b81fdaa",
   "metadata": {},
   "outputs": [
    {
     "data": {
      "text/plain": [
       "array([ 0, 13, 11,  7,  4])"
      ]
     },
     "execution_count": 69,
     "metadata": {},
     "output_type": "execute_result"
    }
   ],
   "source": [
    "c = np.random.randint(15, size=(5))\n",
    "c"
   ]
  },
  {
   "cell_type": "code",
   "execution_count": 70,
   "id": "dcba94a8",
   "metadata": {},
   "outputs": [
    {
     "data": {
      "text/plain": [
       "array([13,  7])"
      ]
     },
     "execution_count": 70,
     "metadata": {},
     "output_type": "execute_result"
    }
   ],
   "source": [
    "c[1:4:2] # Faire un bond de 2 à partir du 2eme élément jusqu'au 4eme"
   ]
  },
  {
   "cell_type": "code",
   "execution_count": 71,
   "id": "bd373ed2",
   "metadata": {},
   "outputs": [
    {
     "data": {
      "text/plain": [
       "array([ 0, 13,  4])"
      ]
     },
     "execution_count": 71,
     "metadata": {},
     "output_type": "execute_result"
    }
   ],
   "source": [
    "c[[0, 1, -1]] # Extraire des éléments précis"
   ]
  },
  {
   "cell_type": "code",
   "execution_count": 72,
   "id": "a40a8914",
   "metadata": {},
   "outputs": [
    {
     "data": {
      "text/plain": [
       "array([[64, 47, 97],\n",
       "       [93, 51, 45],\n",
       "       [30, 45, 74],\n",
       "       [44,  6, 46],\n",
       "       [38, 82, 37],\n",
       "       [59, 51, 70]])"
      ]
     },
     "execution_count": 72,
     "metadata": {},
     "output_type": "execute_result"
    }
   ],
   "source": [
    "cdata = np.random.randint(100, size=(6, 3))\n",
    "cdata"
   ]
  },
  {
   "cell_type": "code",
   "execution_count": 73,
   "id": "967a8195",
   "metadata": {},
   "outputs": [
    {
     "data": {
      "text/plain": [
       "array([[64, 97],\n",
       "       [93, 45],\n",
       "       [30, 74],\n",
       "       [44, 46],\n",
       "       [38, 37],\n",
       "       [59, 70]])"
      ]
     },
     "execution_count": 73,
     "metadata": {},
     "output_type": "execute_result"
    }
   ],
   "source": [
    "cdata[:, [0,2]]"
   ]
  },
  {
   "cell_type": "code",
   "execution_count": 74,
   "id": "828fd62e",
   "metadata": {},
   "outputs": [
    {
     "data": {
      "text/plain": [
       "array([[30, 45, 74],\n",
       "       [93, 51, 45],\n",
       "       [38, 82, 37]])"
      ]
     },
     "execution_count": 74,
     "metadata": {},
     "output_type": "execute_result"
    }
   ],
   "source": [
    "cdata[[2,1,4], :]"
   ]
  },
  {
   "cell_type": "code",
   "execution_count": null,
   "id": "f27c8d98",
   "metadata": {},
   "outputs": [],
   "source": []
  }
 ],
 "metadata": {
  "kernelspec": {
   "display_name": "Python 3 (ipykernel)",
   "language": "python",
   "name": "python3"
  },
  "language_info": {
   "codemirror_mode": {
    "name": "ipython",
    "version": 3
   },
   "file_extension": ".py",
   "mimetype": "text/x-python",
   "name": "python",
   "nbconvert_exporter": "python",
   "pygments_lexer": "ipython3",
   "version": "3.10.12"
  }
 },
 "nbformat": 4,
 "nbformat_minor": 5
}
