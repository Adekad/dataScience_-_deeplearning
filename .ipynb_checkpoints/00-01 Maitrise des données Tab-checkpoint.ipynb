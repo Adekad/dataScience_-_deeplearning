{
 "cells": [
  {
   "cell_type": "markdown",
   "id": "ff3bd11c-fdd4-437c-a457-849b90887de8",
   "metadata": {},
   "source": [
    "***\"If I had an hour to solve a problem and my life depended on the solution, I would use the first 55 minutes determining the proper question to ask, for once I know the proper question, I could solve the problem in less than five minutes.\"***\n",
    "\n",
    "***The key to successful data exploration is the formulation of good questions.***\n",
    "\n",
    "***We believe in the triumph of facts. A collection of data is a collection of facts, and facts are the foundation of human progress.***"
   ]
  },
  {
   "cell_type": "markdown",
   "id": "f9c1ed83-6504-4e4c-987c-b22635f139b9",
   "metadata": {},
   "source": [
    "## Poser les bonnes questions\n",
    "\n",
    "**Link:** https://www.tableau.com/blog/find-hidden-insights-your-data-ask-why-and-why-62739\n",
    "\n",
    "### Demander pourquoi, la regle des 5 pourquoi (Sakichi Toyoda) ?\n",
    "En un mot, vous demandez « pourquoi » d'un problème qui a été identifié, puis continuez à demander « pourquoi » pour chaque réponse ou explication donnée. L’objectif principal de cette technique est de déterminer la cause première d’un défaut afin que vous puissiez le corriger.\n",
    "\n",
    "### Attitudes et Aptitudes\n",
    "    - Interet, curiosité, Imagination\n",
    "    - Motivation personel\n",
    "    - Ouverture d'esprit & flexibilité\n",
    "    - Conscience de ce qui vaut la peine, détection de tendance\n",
    "    - Méthodologie\n",
    "    - Capacité d'analyse et de Synthèse\n",
    "    - Compétences dans les pratiques d'analyse de données"
   ]
  },
  {
   "cell_type": "markdown",
   "id": "f14aa861-886d-4661-a1fb-3e94daa6fcb7",
   "metadata": {},
   "source": [
    "### Fondamentaux des données\n",
    "\n",
    "Une collection de donnée est une collection de fait.  Les données reçues ou collectées sont appelées données brutes. "
   ]
  },
  {
   "cell_type": "markdown",
   "id": "fa729eb0-0c1e-4073-99df-9c597145a004",
   "metadata": {},
   "source": [
    "## Introduction a la maitrise des données(tableau e-learning)\n",
    "En termes simples, la maîtrise des données est la capacité d'explorer, de comprendre et de communiquer avec des données.\n",
    "\n",
    "**Link** : https://elearning-samples.tableau.com/page/data-literacy\n",
    "\n",
    "### Reconnaitre les données bien structurées\n",
    "#### Caracteristique des données\n",
    "Les données efficaces ont également des caractéristiques spécifiques.\n",
    "\n",
    "   &gt; **Volume**: Une grande quantité de donnée pertinentes donnes plus de chances d'avoir ce dont on a besoin pour répondre a nos questions. **La pertinence** est importante.\n",
    "\n",
    "   &gt; **Histoire ou Historique**: Les données qui remontent dans le temps vous permettent de voir comment **la situation actuelle est née en raison de modèles apparus au fil du temps**, par exemple en examinant les tendances des ventes au cours des 10 dernières années pour constater des augmentations ou des diminutions.\n",
    "\n",
    "   &gt; **Cohérence**: À mesure que les choses changent, les données doivent être ajustées pour plus de cohérence.\n",
    "\n",
    "   &gt; **Plusieurs variable**: Les données doivent contenir a la fois des variable quantitatives(caractéristique mesurable numériquement) et qualitatives.\n",
    "\n",
    "   &gt; **Niveau de détails plus bas**: Plus les données sont finement détaillées, plus vous pouvez les examiner à différents niveaux de détail. Par exemple, si vous souhaitez comprendre les tendances en matière de pratique du vélo dans votre État, il serait utile de voir ces tendances influencées par le comté, la ville et le quartier.\n",
    "\n",
    "\n",
    "  &gt; **Propreté des données**: Pour que les données soient significatives, elles ne doivent pas être inexactes ou incomplètes et ne doivent pas contenir d’erreurs.\n",
    "\n",
    "  &gt; **Structure dimensionnelle**: Un moyen accessible de structurer les données consiste à les organiser en deux types : dimensions (valeurs qualitatives) et mesures (valeurs quantitatives).\n",
    "\n",
    "  &gt; **Groupage**: Les groupes, basés sur des caractéristiques similaires, doivent être intégrés aux données pour une analyse plus facile. Par exemple, les données sur les films pourraient être regroupées par genre (action, science-fiction, romance, comédie, etc.).\n",
    "\n",
    "  &gt; **Origines transparentes**: Pour faire confiance aux données, vous devez savoir qu’elles proviennent d’une source fiable et qu’elles ont été traitées de manière fiable.\n",
    "\n",
    "#### Organization des données\n",
    "&gt; **Les données biens structurées** sont organisées en lignes et colonnes. Les colonnes représentent les variables(sur Tableau les variables sont appelées **Fields**, une ligne représente une unité de l'analyse appelée **valeur**\n",
    "\n",
    "\n",
    "&gt; **Les données mal formatées** contiennent certaines caractéristiques qui encombrent les données ou peuvent rendre les données difficiles à interpréter pour les logiciels. Certains de ces problèmes incluent :\n",
    "\n",
    "    - Les variables (champs) ne sont pas chacune dans une colonne, avec un en-tête de colonne.\n",
    "    - Chaque observation différente de la variable (valeurs) ne se trouve pas dans une ligne différente.\n",
    "    - Les titres sont formatés sous forme de lignes au-dessus des en-têtes de colonnes ou sous forme de colonnes supplémentaires.\n",
    "    - Colonnes et lignes supplémentaires.\n",
    "    - En-têtes de colonnes formatés en sous-titres et non dans la première ligne.\n",
    "\n",
    "#### Restructuration des données\n",
    "Certaines tâches courantes pour transformer les données en données bien structurées incluent :\n",
    "  - Pivoter la colonne en lignes ou vice versa: Utilisez un pivot sur des ensembles de données « larges » lorsque les informations sont capturées avec de nombreuses colonnes et que les colonnes contiennent des informations similaires.\n",
    "  - Fractionnement des champs : Une division sépare les valeurs de champ de chaîne (texte) en fonction d'un délimiteur(les valeurs du champ Compagnie aérienne contiennent le nom de la compagnie aérienne ainsi qu'un code de compagnie aérienne à deux lettres).\n"
   ]
  },
  {
   "cell_type": "markdown",
   "id": "85fc26dc-d9a7-4466-a532-0e1810fb8eae",
   "metadata": {},
   "source": [
    "## Les variables dans la visualisation\n",
    "\n",
    "Tout d'abord on a les variables qualitatives nominales(chien, chat) et ordinales(mesurable en dégré(bien, passable, trés bien)). Lors de la visualisation on visualise une variable quantitative à partir(sur) des variables qualitatives(Nous avons examiné les variables dans les données et exploré certaines visualisations avec une variable quantitative et des variables qualitatives nominales et ordinales.)\n",
    "\n",
    "Les variables quantitatives continues(Continu signifie former un tout ininterrompu, sans interruption. Ce sont des variables qui ne peuvent pas être comptées dans un laps de temps fini car il existe un nombre infini de valeurs entre deux valeurs. Exple: 3,14) et variable discrète(sont individuellement séparées et distinctes,  si vous pouvez la compter individuellement. Exple: Nbre enfant)"
   ]
  },
  {
   "cell_type": "markdown",
   "id": "f3a84879-41b4-481d-b26f-41bfe5ef0682",
   "metadata": {},
   "source": [
    "## L'agrégation & la granularité\n",
    "L'agrégation fait référence à la manière dont les données sont combinées(Somme, Moyenne, Médian([2, 4, 6] le median est 4), Min, Max, Count), Les champs quantitatifs peuvent être agrégés.\n",
    "\n",
    "La granularité fait référence au degré de détail ou de précision des données. Par exemple dans une population, la granularité est l'individu."
   ]
  },
  {
   "cell_type": "markdown",
   "id": "1ea6928a-e4b5-4390-a835-a6535c50d155",
   "metadata": {},
   "source": [
    "## Comprendre les distributions\n",
    "Représenter la distribution de variable discrète(répartition des fréquences. Count): \n",
    "    ***Fréquence des distributions:*** Graphique en barre adapté\n",
    "    ***Répartitions(distribution) proportionnelles:*** pourcentage\n",
    "\n",
    "Représenter la distribution de variable continu(histogramme, boîtes à moustaches)\n",
    "\n",
    "**Histogramme:**  La hauteur de chaque barre de l'histogramme est proportionnelle à la fréquence des valeurs dans cette case. En d’autres termes, plus la barre est haute, plus les points de données de l’échantillon se trouvent fréquemment dans cette case.\n",
    "\n",
    "***Distributin symétrique:*** Dans une distribution entièrement symétrique, le centre des données est à la fois la moyenne et la médiane car ces valeurs sont égales. Le centre des données est représenté par les deux valeurs et la répartition des données s'étend de la même manière de chaque côté du centre.\n",
    "\n",
    "***Distribution asymétrique positive:*** Certaines distributions ne sont pas symétriques. Si les données d'une distribution(plus d'observation) s'étalent davantage dans le sens positif que dans le sens négatif, il s'agit d'une distribution avec une asymétrie positive. Lorsqu'une distribution est asymétrique positivement, la médiane est inférieure à la moyenne. Par exemple, imaginez une ville dont les habitants comprennent plusieurs milliardaires. Les revenus élevés de ces milliardaires fausseraient le revenu moyen (ou moyen) de la ville. Le revenu moyen semblerait plus élevé qu’il n’est exact. Pour refléter véritablement la santé économique de tous les résidents de la ville, le revenu médian serait le meilleur choix.\n",
    "\n",
    "***Distribution asymétrique négative:*** contraire.\n",
    "Un histogramme ressemble à un graphique à barres, mais il regroupe les valeurs d'une variable continue en plages de tailles égales, ou compartiments .\n",
    "\n",
    "**Boite  moustaches:** La création d'une boîte à moustaches suit ces étapes :\n",
    "    - Calculez les centiles(la médiane 50eme percentile(19), 25eme(Dans notre exple 17) et 75eme percentile(Dans notre exple 20).). Les valeurs comprises entre le 25e centile et la médiane sont également appelées le deuxième quartile,  et les valeurs du 51e centile (juste après la médiane) jusqu'au 75e centile sont appelées le troisième quartile.\n",
    "    - Tracez la boîte en fonction des percentiles.\n",
    "    - Déterminez la taille du pas.\n",
    "    - Ajoutez les moustaches.\n",
    "Le placement des moustaches est déterminé par étapes, où une étape est définie comme 1,5 * IQR , où IQR est l'intervalle interquartile. IQR = 75eme percentile - 25eme percentile.\n",
    "\n",
    "***Cloture interieure:***\n",
    "    Clôture intérieure supérieure :  1 marche au-dessus de la charnière supérieure. Pour nos données de score, cela donnerait 20 + 4,5 , soit 24,5 sur l'axe des y. \n",
    "    Clôture intérieure inférieure :  1 marche en dessous de la charnière inférieure. Pour nos données de score, cela serait 17 - 4,5 , soit 12,5 sur l'axe des y. \n",
    "Remarque : Nous ne verrons pas les clôtures dans le graphique final ; ils sont utilisés uniquement pour déterminer où iront les moustaches.\n",
    "\n",
    "***Clôtures extérieures:***\n",
    "    Clôture extérieure supérieure :  2 marches au-dessus de la charnière supérieure. Pour nos données de score, cela serait 20 + 4,5 + 4,5 , soit 29 sur l'axe des y. \n",
    "    Clôture extérieure inférieure :  2 marches sous la charnière inférieure. Pour nos données de score, cela serait 17 - 4,5 - 4,5 , soit 8 sur l'axe des y (non illustré).\n",
    "Remarque : Nous ne verrons pas les clôtures dans le graphique final ; ils sont utilisés uniquement pour déterminer où iront les moustaches.\n",
    "\n",
    "***Valeurs adjacentes:***\n",
    "    Upper adjacent : la plus grande valeur en dessous de la clôture intérieure supérieure. Dans notre exemple, il s'agit de 24 ; c'est donc la valeur 24 sur l'axe des y. \n",
    "    Adjacent inférieur : la plus petite valeur au-dessus de la clôture intérieure inférieure. Dans notre exemple, c'est 14 ; c'est donc la valeur 14 sur l'axe des y.\n",
    "\n",
    "***Valeurs aberrantes:***\n",
    "Valeur extérieure : une valeur au-delà d'une clôture intérieure mais pas au-delà d'une clôture extérieure. Nous avons l'une de ces valeurs dans notre ensemble de scores, 29, qui est la valeur 29 sur l'axe des y.\n",
    "Valeur lointaine : une valeur au-delà d'une clôture extérieure. Nous n’avons pas de valeur très éloignée dans notre ensemble de scores."
   ]
  },
  {
   "cell_type": "markdown",
   "id": "c107c32e-9688-47e1-9317-fd1b763d2633",
   "metadata": {},
   "source": [
    "## Comprendre la variation pour des comparaisons judicieuses\n",
    "\n",
    "### Variance et écart type\n",
    "Pour calculer la variance, nous additionnons les carrés des distances de chaque point de données à la moyenne, puis divisons par le nombre de points de données. \n",
    "L'écart-type est calculé comme la racine carrée de la variance.\n",
    "\n",
    "***Courbe de densité(distribution continue)***\n",
    "\n",
    "Au lieu d'utiliser un histogramme pour représenter toutes les valeurs possibles d'une variable continue, nous pouvons utiliser une distribution continue . Une distribution continue ressemble à une courbe lisse, également appelée courbe de densité. La courbe de densité représente bien plus que les valeurs d'un échantillon particulier. Il représente toutes les valeurs possibles, ainsi que leurs probabilités d'occurrence (la probabilité que les valeurs se produisent).\n",
    "\n",
    "Pour résumer, voici quelques concepts à garder à l’esprit lorsque l’on réfléchit aux courbes de densité :\n",
    "\n",
    "Ce sont des distributions continues qui représentent tous les points de données possibles à la fois. \n",
    "L'axe des y représente la densité de probabilité , qui montre la chance d'obtenir des valeurs proches des points correspondants sur l'axe des x.\n",
    "L'aire totale sous la courbe est de 100 % ou 1.\n",
    "\n",
    "+++L'inférence est le processus consistant à tirer des conclusions sur une population sur la base d'un échantillon de données. Les tests d'hypothèse prennent en compte le nombre d'échantillons, la taille de la différence mesurée et l'ampleur de la variation observée dans chaque groupe.+++\n",
    "\n",
    "***Distribution normale***\n",
    "Lorsqu'on travaille avec un échantillon de donnée représentant la population totale, la distribution normale peut etre un outil d'estimation utile."
   ]
  },
  {
   "cell_type": "markdown",
   "id": "c35832ce-7697-407c-a927-90b1569cc2c9",
   "metadata": {},
   "source": [
    "## La Corrélation et la Regression\n",
    "\n",
    "Les nuages de points sont utilisés pour représenter graphiquement les relations entre les variables quantitatives. Il est important de comprendre que la corrélation ne prouve jamais la causalité. La corrélation nous indique uniquement dans quelle mesure une paire de variables quantitatives est linéairement liée. Cela n’explique ni le comment ni le pourquoi. ***La corrélation de Pearson*** , également appelée  coefficient de corrélation , est utilisée pour mesurer la force et la direction (positive ou négative). Pour que les corrélations soient significatives, elles doivent utiliser des variables quantitatives , elles doivent décrire des relations linéaires et elles ne peuvent pas inclure de valeurs aberrantes .\n",
    "\n",
    "La régression linéaire montre également la direction et la force de la relation entre deux variables numériques, mais la régression utilise la  ligne droite la mieux ajustée passant par les points d'un nuage de points pour prédire comment X fait changer Y.  Avec corrélation, les valeurs de X et Y sont interchangeables. Avec la régression, les résultats de l'analyse changeront si X et Y sont permutés."
   ]
  },
  {
   "cell_type": "code",
   "execution_count": null,
   "id": "16cca148-0e84-492f-ab27-416aadab3c90",
   "metadata": {},
   "outputs": [],
   "source": []
  }
 ],
 "metadata": {
  "kernelspec": {
   "display_name": "Python 3 (ipykernel)",
   "language": "python",
   "name": "python3"
  },
  "language_info": {
   "codemirror_mode": {
    "name": "ipython",
    "version": 3
   },
   "file_extension": ".py",
   "mimetype": "text/x-python",
   "name": "python",
   "nbconvert_exporter": "python",
   "pygments_lexer": "ipython3",
   "version": "3.10.4"
  }
 },
 "nbformat": 4,
 "nbformat_minor": 5
}
